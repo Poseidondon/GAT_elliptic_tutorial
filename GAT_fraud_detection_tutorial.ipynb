{
 "nbformat": 4,
 "nbformat_minor": 0,
 "metadata": {
  "colab": {
   "provenance": [],
   "gpuType": "T4"
  },
  "kernelspec": {
   "name": "python3",
   "display_name": "Python 3"
  },
  "language_info": {
   "name": "python"
  },
  "accelerator": "GPU"
 },
 "cells": [
  {
   "cell_type": "markdown",
   "source": [
    "# Fraud detection in crypto transaction networks, using Graph Attention Network."
   ],
   "metadata": {
    "id": "sX5fkTxIQ5TL",
    "pycharm": {
     "name": "#%% md\n"
    }
   }
  },
  {
   "cell_type": "markdown",
   "source": [
    "## Prerequisites\n",
    "- Being familiar with **ML** and **Deep Learning**\n",
    "- Understanding of **Attention mechanism**\n",
    "- Basic knowledge of **PyTorch**"
   ],
   "metadata": {
    "id": "jjz2qrnZ6-Ls",
    "pycharm": {
     "name": "#%% md\n"
    }
   }
  },
  {
   "cell_type": "markdown",
   "source": [
    "## Introduction\n",
    "*Note: this tutorial code is based on **Graph Neural Networks for Fraud Detection in Crypto Transactions** ([Zorkaltseva (2022)](https://mariazork.github.io/machine%20learning/deep%20learning/2022/09/01/graph-neural-networks-for-fraud-detection-in-crypto-transactions.html)).\n",
    "Also, some parts of tutorial could be adapted from **Evolve GAT — A dynamic graph attention model** ([Eliassen (2023)](https://medium.com/stanford-cs224w/evolve-gat-a-dynamic-graph-attention-model-d3a416bb7c33)) and **Stanford CS224W Colab** ([link](https://github.com/luciusssss/CS224W-Colab/blob/main/CS224W-Colab%203.ipynb)).*\n",
    "\n",
    "Despite significant progress within deep learning areas such as computer vision, natural language/audio processing, time series forecasting, etc., the majority of problems work with non-euclidian geometric data and as an example of such data are social network connections, IoT sensors topology, molecules, gene expression data and so on. The non-Euclidian nature of data implies that all properties of Euclidian vector space $R^n$ can not be applied to such data samples; for example, [shift-invariance](https://stats.stackexchange.com/questions/121703/what-does-shift-invariant-mean-in-convolutional-neural-network#:~:text=Shift-invariance%3A%20this%20means%20that%20if,shifted%20by%20the%20same%20amount), which is an important property for Convolutional Neural Networks (CNN), does not save her.\n",
    "\n",
    "In this tutorial, we will consider the semi-supervised node classification problems using Graph Attention Network and evaluate its performance on the Elliptic dataset, which contains crypto transaction data."
   ],
   "metadata": {
    "id": "TCPmAQEuwXnZ",
    "pycharm": {
     "name": "#%% md\n"
    }
   }
  },
  {
   "cell_type": "markdown",
   "source": [
    "## Attention-based spatial Convolutional GNN\n",
    "Among spatial-based convolutional GNN models, the following models are widely known: GAT, GraphSage, MoNet, GAAN, DiffPool, and others. The working principle is similar to CNN convolution operator application to image data, except the spatial approach applies convolution to differently sized node neighbors of a graph.\n",
    "\n",
    "Attention mechanism gained wide popularity thanks to the models used in NLP tasks (e.g., LSTM with attention, transformers). In the case of GNN having an attention mechanism, contributions of neighboring nodes to the considered node are neither identical nor pre-defined, as, for example, in [GraphSage](https://arxiv.org/pdf/1706.02216.pdf) or [GCN](https://computationalsocialnetworks.springeropen.com/articles/10.1186/s40649-019-0069-y?ref=https://githubhelp.com) models.\n",
    "\n",
    "In this tutorial we will use [GAT](https://arxiv.org/pdf/1710.10903v3.pdf) model, which leverages masked self-attentional layers.\n"
   ],
   "metadata": {
    "id": "AdCfbDF61Yy8",
    "pycharm": {
     "name": "#%% md\n"
    }
   }
  },
  {
   "cell_type": "markdown",
   "source": [
    "## Graph Attention Network (GAT)\n",
    "### GNN architecture\n",
    "To introduce the graph ML approach to predictions over static networks, we'll briefly describe the reader how Graph Convolutional Networks (GCNs) and Graph Attention Networks (GATs) work. As Graph Neural Network (GNN) architectures, both of these network types are able to better leverage connections between nodes compared to standard Fully Connected Neural Networks (FCNNs). GCNs specifically use neighborhood aggregation as a “convolution” operation, akin to the convolutional filter in a standard CNN, but over each node’s *set of neighbors*.\n",
    "\n",
    "![CNN and GCN](figures/cnn_and_gcn.gif)\n",
    "\n",
    "GAT, a more expressive class, instead learns attention weights that help scale these convolution weights. Recall that these weights refer to the importance of a neighbor node $j$'s features on those of node $i$ that we are operating upon. For a GCN, these coefficients are simply predetermined from the graph structure and these coefficients are equal as long as there exists an edge between node $i$ and $j$. For a GAT, through an attention mechanism inputting the relevant node embeddings of each edge, relevant edges may be weighted higher.\n",
    "\n",
    "### GAT architecture\n",
    "The building block of the Graph Attention Network is the graph attention layer, which is a variant of the aggregation function. Let $N$ be the number of nodes and $F$ be the dimension of the feature vector for each node. The input to each graph attentional layer is a set of node features: $\\mathbf{h} = \\{\\overrightarrow{h_1}, \\overrightarrow{h_2}, \\dots, \\overrightarrow{h_N}$\\}, $\\overrightarrow{h_i} \\in R^F$. The output of each graph attentional layer is a new set of node features, which may have a new dimension $F'$: $\\mathbf{h'} = \\{\\overrightarrow{h_1'}, \\overrightarrow{h_2'}, \\dots, \\overrightarrow{h_N'}\\}$, with $\\overrightarrow{h_i'} \\in \\mathbb{R}^{F'}$.\n",
    "\n",
    "We will now describe how this transformation is performed for each graph attention layer. First, a shared linear transformation parametrized by the weight matrix $\\mathbf{W} \\in \\mathbb{R}^{F' \\times F}$ is applied to every node.\n",
    "\n",
    "Next, we perform self-attention on the nodes. We use a shared attention function $a$:\n",
    "\\begin{equation}\n",
    "a : \\mathbb{R}^{F'} \\times \\mathbb{R}^{F'} \\rightarrow \\mathbb{R}.\n",
    "\\end{equation}\n",
    "\n",
    "that computes the attention coefficients capturing the importance of node $j$'s features to node $i$:\n",
    "\\begin{equation}\n",
    "e_{ij} = a(\\mathbf{W_l}\\overrightarrow{h_i}, \\mathbf{W_r} \\overrightarrow{h_j})\n",
    "\\end{equation}\n",
    "\n",
    "The most general formulation of self-attention allows every node to attend to all other nodes which drops all structural information. However, to utilize graph structure in the attention mechanisms, we use **masked attention**. In masked attention, we only compute attention coefficients $e_{ij}$ for nodes $j \\in \\mathcal{N}_i$ where $\\mathcal{N}_i$ is some neighborhood of node $i$ in the graph.\n",
    "\n",
    "To easily compare coefficients across different nodes, we normalize the coefficients across $j$ using a softmax function:\n",
    "\\begin{equation}\n",
    "\\alpha_{ij} = \\text{softmax}_j(e_{ij}) = \\frac{\\exp(e_{ij})}{\\sum_{k \\in \\mathcal{N}_i} \\exp(e_{ik})}\n",
    "\\end{equation}\n",
    "\n",
    "For this problem, our attention mechanism $a$ will be a single-layer feedforward neural network parametrized by a weight vectors $\\overrightarrow{a_l} \\in \\mathbb{R}^{F'}$ and $\\overrightarrow{a_r} \\in \\mathbb{R}^{F'}$, followed by a LeakyReLU nonlinearity (with negative input slope 0.2). Let $\\cdot^T$ represent transposition and $||$ represent concatenation. The coefficients computed by our attention mechanism may be expressed as:\n",
    "\n",
    "\\begin{equation}\n",
    "\\alpha_{ij} = \\frac{\\exp\\Big(\\text{LeakyReLU}\\Big(\\overrightarrow{a_l}^T \\mathbf{W_l} \\overrightarrow{h_i} + \\overrightarrow{a_r}^T\\mathbf{W_r}\\overrightarrow{h_j}\\Big)\\Big)}{\\sum_{k\\in \\mathcal{N}_i} \\exp\\Big(\\text{LeakyReLU}\\Big(\\overrightarrow{a_l}^T \\mathbf{W_l} \\overrightarrow{h_i} + \\overrightarrow{a_r}^T\\mathbf{W_r}\\overrightarrow{h_k}\\Big)\\Big)}\n",
    "\\end{equation}\n",
    "\n",
    "\n",
    "At every layer of GAT, after the attention coefficients are computed for that layer, the aggregation function can be computed by a weighted sum of neighborhood messages, where weights are specified by $\\alpha_{ij}$.\n",
    "\n",
    "Now, we use the normalized attention coefficients to compute a linear combination of the features corresponding to them. These aggregated features will serve as the final output features for every node.\n",
    "\n",
    "\\begin{equation}\n",
    "h_i' = \\sum_{j \\in \\mathcal{N}_i} \\alpha_{ij} \\mathbf{W_r} \\overrightarrow{h_j}\n",
    "\\end{equation}\n",
    "\n",
    "### Multiple attention mechanisms in GAT\n",
    "To improve the stability of the learning process, Multi-head attention is employed. Specifically, $K$ independent attention mechanisms execute the transformation of previous Equation, and then their features are\n",
    "concatenated, resulting in the following output feature representation:\n",
    "\n",
    "\\begin{equation}\n",
    "\\DeclareMathOperator*{\\bigparallel}{\\parallel}\n",
    "h_i' = \\bigparallel_{k=1}^{K}\n",
    "\\left(\n",
    "\\sum_{j \\in \\mathcal{N}_i} \\alpha_{ij}^k \\mathbf{W_r^k} \\overrightarrow{h_j}\n",
    "\\right)\n",
    "\\end{equation}\n",
    "\n",
    "where $\\parallel$ represents concatenation.\n",
    "Note that, in this setting, the final returned output, $h'$, will consist of $KF'$ features (rather than $F'$) for each node.\n",
    "\n",
    "Specially, if we perform multi-head attention on the final (prediction) layer of the network, concatenation is no longer sensible—instead, we employ *averaging*:\n",
    "\n",
    "\\begin{equation}\n",
    "h_i' = \\frac{1}{K} \\sum_{k=1}^{K} \\sum_{j \\in \\mathcal{N}_i} \\alpha_{ij}^k \\mathbf{W_r^k} \\overrightarrow{h_j}\n",
    "\\end{equation}\n",
    "\n",
    "The aggregation process of a multi-head graph attentional layer is illustrated by Figure 1 (right).\n",
    "\n",
    "<figure>\n",
    "  <img\n",
    "  src=\"figures/attention_mechanism.png\"\n",
    "  alt=\"Attention layer\"\n",
    "  width=1080>\n",
    "  <figcaption>\n",
    "  Figure 1: <b>Left</b>: The attention mechanism $a(\\mathbf{W_l}\\overrightarrow{h_i}, \\mathbf{W_r} \\overrightarrow{h_j})$ employed by model, parametrized by a weight vector $\\vec{\\textbf{a}} \\in \\mathbb{R}^{2F'}$, applying a LeakyReLU activation. <b>Right</b>: An illustration of multihead attention (with $K = 3$ heads) by node 1 on its neighborhood. Different arrow styles and colors denote independent attention computations. The aggregated features from each head are concatenated or averaged to obtain $\\vec{h'_1}$.\n",
    "  </figcaption>\n",
    "</figure>"
   ],
   "metadata": {
    "id": "uqAD35Na5anO",
    "pycharm": {
     "name": "#%% md\n"
    }
   }
  },
  {
   "cell_type": "markdown",
   "source": [
    "## Install dependencies"
   ],
   "metadata": {
    "id": "_bwx38yowPve",
    "pycharm": {
     "name": "#%% md\n"
    }
   }
  },
  {
   "cell_type": "markdown",
   "source": [
    "With all the theory done, let's proceed to the implementation part.\n",
    "We will implement our GAT model, using [PyTorch Geometric](https://pytorch-geometric.readthedocs.io/en/latest/index.html)."
   ],
   "metadata": {
    "id": "ObIMa6GPxqW3",
    "pycharm": {
     "name": "#%% md\n"
    }
   }
  },
  {
   "cell_type": "code",
   "source": [
    "%%capture\n",
    "!pip install torch-scatter -f https://data.pyg.org/whl/torch-2.1.0+cu118.html\n",
    "!pip install torch-sparse -f https://data.pyg.org/whl/torch-2.1.0+cu118.html\n",
    "!pip install torch-geometric"
   ],
   "metadata": {
    "id": "WAraYs9qQnwE",
    "pycharm": {
     "name": "#%%\n"
    }
   },
   "execution_count": 1,
   "outputs": []
  },
  {
   "cell_type": "markdown",
   "source": [
    "## Imports\n",
    "Import all the modules, we will need later."
   ],
   "metadata": {
    "id": "ftU6DehpRCP6",
    "pycharm": {
     "name": "#%% md\n"
    }
   }
  },
  {
   "cell_type": "code",
   "execution_count": 2,
   "metadata": {
    "id": "dtwNBwS3PtO0",
    "pycharm": {
     "name": "#%%\n"
    }
   },
   "outputs": [],
   "source": [
    "import os\n",
    "import copy\n",
    "import torch\n",
    "import warnings\n",
    "import numpy as np\n",
    "import pandas as pd\n",
    "import networkx as nx\n",
    "import seaborn as sns\n",
    "import matplotlib.pyplot as plt\n",
    "\n",
    "from sklearn.metrics import confusion_matrix, classification_report\n",
    "from sklearn.model_selection import train_test_split\n",
    "\n",
    "from torch_geometric.utils import to_networkx\n",
    "from torch_geometric.data import Data, DataLoader\n",
    "\n",
    "import torch.nn.functional as F\n",
    "from torch.nn import Linear, BatchNorm1d\n",
    "from torch_geometric.nn import GATv2Conv\n",
    "\n",
    "from types import SimpleNamespace\n",
    "\n",
    "warnings.filterwarnings('ignore')"
   ]
  },
  {
   "cell_type": "markdown",
   "source": [
    "## Dataset\n",
    "Here, for the node classification task, we will use the [Elliptic dataset](https://www.kaggle.com/datasets/ellipticco/elliptic-data-set). Dataset consists of **203 769 nodes** and **234 355 edges**. Dataset represents bitcoin blockchain as a graph. Nodes are represented as **transactions** and edges are represented as a **bitcoin flow** between transactions. There are 3 node classes: *“licit”, “illicit”, or “unknown”*, where the majority of the nodes is unknown. The task is to classify nodes as *“licit”* or *“illicit”*.\n",
    "\n",
    "Each node has **166 features**, where first **94 features** represent local information and the remaining **72 features** are aggregated features. More detailed feature description is unavailable for security reasons.\n",
    "\n",
    "Here is the visualization of Address-Transaction graph:\n",
    "![Address-Transaction graph](figures/dataset.jpg)"
   ],
   "metadata": {
    "id": "Yc7nArsjvNqV",
    "pycharm": {
     "name": "#%% md\n"
    }
   }
  },
  {
   "cell_type": "markdown",
   "source": [
    "Let's load Elliptic dataset from [`torch_geometric.datasets`](https://pytorch-geometric.readthedocs.io/en/latest/modules/datasets.html). This saves the dataset to the `root` directory."
   ],
   "metadata": {
    "id": "pz1-fmnaCNt0",
    "pycharm": {
     "name": "#%% md\n"
    }
   }
  },
  {
   "cell_type": "code",
   "source": [
    "from torch_geometric.datasets import EllipticBitcoinDataset\n",
    "dataset = EllipticBitcoinDataset(root='./data/elliptic-bitcoin-dataset')"
   ],
   "metadata": {
    "id": "FpwdmeRhReb8",
    "pycharm": {
     "name": "#%%\n"
    }
   },
   "execution_count": 3,
   "outputs": []
  },
  {
   "cell_type": "markdown",
   "source": [
    "Let's now have a look at the data."
   ],
   "metadata": {
    "id": "ztaEULGGLsMP",
    "pycharm": {
     "name": "#%% md\n"
    }
   }
  },
  {
   "cell_type": "code",
   "source": [
    "df_features = pd.read_csv('./data/elliptic-bitcoin-dataset/raw/elliptic_txs_features.csv', header=None)\n",
    "df_edges = pd.read_csv(\"./data/elliptic-bitcoin-dataset/raw/elliptic_txs_edgelist.csv\")\n",
    "df_classes =  pd.read_csv(\"./data/elliptic-bitcoin-dataset/raw/elliptic_txs_classes.csv\")\n",
    "df_classes['class'] = df_classes['class'].map({'unknown': 2, '1': 1, '2': 0})"
   ],
   "metadata": {
    "id": "isnDSW83RwpR",
    "pycharm": {
     "name": "#%%\n"
    }
   },
   "execution_count": 4,
   "outputs": []
  },
  {
   "cell_type": "markdown",
   "source": [
    "`df_features` contains each node id and corresponding features."
   ],
   "metadata": {
    "id": "OhrbKT6yNFUR",
    "pycharm": {
     "name": "#%% md\n"
    }
   }
  },
  {
   "cell_type": "code",
   "source": [
    "# nodes features\n",
    "df_features.head()"
   ],
   "metadata": {
    "colab": {
     "base_uri": "https://localhost:8080/",
     "height": 255
    },
    "id": "1bZAujIKSaYU",
    "outputId": "c62f1965-66d9-4d16-f91e-9502b4427d0f",
    "pycharm": {
     "name": "#%%\n"
    }
   },
   "execution_count": 5,
   "outputs": [
    {
     "output_type": "execute_result",
     "data": {
      "text/plain": [
       "         0    1         2         3         4          5         6    \\\n",
       "0  230425980    1 -0.171469 -0.184668 -1.201369  -0.121970 -0.043875   \n",
       "1    5530458    1 -0.171484 -0.184668 -1.201369  -0.121970 -0.043875   \n",
       "2  232022460    1 -0.172107 -0.184668 -1.201369  -0.121970 -0.043875   \n",
       "3  232438397    1  0.163054  1.963790 -0.646376  12.409294 -0.063725   \n",
       "4  230460314    1  1.011523 -0.081127 -1.201369   1.153668  0.333276   \n",
       "\n",
       "        7          8         9    ...       157       158       159       160  \\\n",
       "0 -0.113002  -0.061584 -0.162097  ... -0.562153 -0.600999  1.461330  1.461369   \n",
       "1 -0.113002  -0.061584 -0.162112  ...  0.947382  0.673103 -0.979074 -0.978556   \n",
       "2 -0.113002  -0.061584 -0.162749  ...  0.670883  0.439728 -0.979074 -0.978556   \n",
       "3  9.782742  12.414558 -0.163645  ... -0.577099 -0.613614  0.241128  0.241406   \n",
       "4  1.312656  -0.061584 -0.163523  ... -0.511871 -0.400422  0.517257  0.579382   \n",
       "\n",
       "        161       162       163       164       165       166  \n",
       "0  0.018279 -0.087490 -0.131155 -0.097524 -0.120613 -0.119792  \n",
       "1  0.018279 -0.087490 -0.131155 -0.097524 -0.120613 -0.119792  \n",
       "2 -0.098889 -0.106715 -0.131155 -0.183671 -0.120613 -0.119792  \n",
       "3  1.072793  0.085530 -0.131155  0.677799 -0.120613 -0.119792  \n",
       "4  0.018279  0.277775  0.326394  1.293750  0.178136  0.179117  \n",
       "\n",
       "[5 rows x 167 columns]"
      ],
      "text/html": [
       "\n",
       "  <div id=\"df-605459b8-76f8-4b3b-806e-b1c6b466f095\" class=\"colab-df-container\">\n",
       "    <div>\n",
       "<style scoped>\n",
       "    .dataframe tbody tr th:only-of-type {\n",
       "        vertical-align: middle;\n",
       "    }\n",
       "\n",
       "    .dataframe tbody tr th {\n",
       "        vertical-align: top;\n",
       "    }\n",
       "\n",
       "    .dataframe thead th {\n",
       "        text-align: right;\n",
       "    }\n",
       "</style>\n",
       "<table border=\"1\" class=\"dataframe\">\n",
       "  <thead>\n",
       "    <tr style=\"text-align: right;\">\n",
       "      <th></th>\n",
       "      <th>0</th>\n",
       "      <th>1</th>\n",
       "      <th>2</th>\n",
       "      <th>3</th>\n",
       "      <th>4</th>\n",
       "      <th>5</th>\n",
       "      <th>6</th>\n",
       "      <th>7</th>\n",
       "      <th>8</th>\n",
       "      <th>9</th>\n",
       "      <th>...</th>\n",
       "      <th>157</th>\n",
       "      <th>158</th>\n",
       "      <th>159</th>\n",
       "      <th>160</th>\n",
       "      <th>161</th>\n",
       "      <th>162</th>\n",
       "      <th>163</th>\n",
       "      <th>164</th>\n",
       "      <th>165</th>\n",
       "      <th>166</th>\n",
       "    </tr>\n",
       "  </thead>\n",
       "  <tbody>\n",
       "    <tr>\n",
       "      <th>0</th>\n",
       "      <td>230425980</td>\n",
       "      <td>1</td>\n",
       "      <td>-0.171469</td>\n",
       "      <td>-0.184668</td>\n",
       "      <td>-1.201369</td>\n",
       "      <td>-0.121970</td>\n",
       "      <td>-0.043875</td>\n",
       "      <td>-0.113002</td>\n",
       "      <td>-0.061584</td>\n",
       "      <td>-0.162097</td>\n",
       "      <td>...</td>\n",
       "      <td>-0.562153</td>\n",
       "      <td>-0.600999</td>\n",
       "      <td>1.461330</td>\n",
       "      <td>1.461369</td>\n",
       "      <td>0.018279</td>\n",
       "      <td>-0.087490</td>\n",
       "      <td>-0.131155</td>\n",
       "      <td>-0.097524</td>\n",
       "      <td>-0.120613</td>\n",
       "      <td>-0.119792</td>\n",
       "    </tr>\n",
       "    <tr>\n",
       "      <th>1</th>\n",
       "      <td>5530458</td>\n",
       "      <td>1</td>\n",
       "      <td>-0.171484</td>\n",
       "      <td>-0.184668</td>\n",
       "      <td>-1.201369</td>\n",
       "      <td>-0.121970</td>\n",
       "      <td>-0.043875</td>\n",
       "      <td>-0.113002</td>\n",
       "      <td>-0.061584</td>\n",
       "      <td>-0.162112</td>\n",
       "      <td>...</td>\n",
       "      <td>0.947382</td>\n",
       "      <td>0.673103</td>\n",
       "      <td>-0.979074</td>\n",
       "      <td>-0.978556</td>\n",
       "      <td>0.018279</td>\n",
       "      <td>-0.087490</td>\n",
       "      <td>-0.131155</td>\n",
       "      <td>-0.097524</td>\n",
       "      <td>-0.120613</td>\n",
       "      <td>-0.119792</td>\n",
       "    </tr>\n",
       "    <tr>\n",
       "      <th>2</th>\n",
       "      <td>232022460</td>\n",
       "      <td>1</td>\n",
       "      <td>-0.172107</td>\n",
       "      <td>-0.184668</td>\n",
       "      <td>-1.201369</td>\n",
       "      <td>-0.121970</td>\n",
       "      <td>-0.043875</td>\n",
       "      <td>-0.113002</td>\n",
       "      <td>-0.061584</td>\n",
       "      <td>-0.162749</td>\n",
       "      <td>...</td>\n",
       "      <td>0.670883</td>\n",
       "      <td>0.439728</td>\n",
       "      <td>-0.979074</td>\n",
       "      <td>-0.978556</td>\n",
       "      <td>-0.098889</td>\n",
       "      <td>-0.106715</td>\n",
       "      <td>-0.131155</td>\n",
       "      <td>-0.183671</td>\n",
       "      <td>-0.120613</td>\n",
       "      <td>-0.119792</td>\n",
       "    </tr>\n",
       "    <tr>\n",
       "      <th>3</th>\n",
       "      <td>232438397</td>\n",
       "      <td>1</td>\n",
       "      <td>0.163054</td>\n",
       "      <td>1.963790</td>\n",
       "      <td>-0.646376</td>\n",
       "      <td>12.409294</td>\n",
       "      <td>-0.063725</td>\n",
       "      <td>9.782742</td>\n",
       "      <td>12.414558</td>\n",
       "      <td>-0.163645</td>\n",
       "      <td>...</td>\n",
       "      <td>-0.577099</td>\n",
       "      <td>-0.613614</td>\n",
       "      <td>0.241128</td>\n",
       "      <td>0.241406</td>\n",
       "      <td>1.072793</td>\n",
       "      <td>0.085530</td>\n",
       "      <td>-0.131155</td>\n",
       "      <td>0.677799</td>\n",
       "      <td>-0.120613</td>\n",
       "      <td>-0.119792</td>\n",
       "    </tr>\n",
       "    <tr>\n",
       "      <th>4</th>\n",
       "      <td>230460314</td>\n",
       "      <td>1</td>\n",
       "      <td>1.011523</td>\n",
       "      <td>-0.081127</td>\n",
       "      <td>-1.201369</td>\n",
       "      <td>1.153668</td>\n",
       "      <td>0.333276</td>\n",
       "      <td>1.312656</td>\n",
       "      <td>-0.061584</td>\n",
       "      <td>-0.163523</td>\n",
       "      <td>...</td>\n",
       "      <td>-0.511871</td>\n",
       "      <td>-0.400422</td>\n",
       "      <td>0.517257</td>\n",
       "      <td>0.579382</td>\n",
       "      <td>0.018279</td>\n",
       "      <td>0.277775</td>\n",
       "      <td>0.326394</td>\n",
       "      <td>1.293750</td>\n",
       "      <td>0.178136</td>\n",
       "      <td>0.179117</td>\n",
       "    </tr>\n",
       "  </tbody>\n",
       "</table>\n",
       "<p>5 rows × 167 columns</p>\n",
       "</div>\n",
       "    <div class=\"colab-df-buttons\">\n",
       "\n",
       "  <div class=\"colab-df-container\">\n",
       "    <button class=\"colab-df-convert\" onclick=\"convertToInteractive('df-605459b8-76f8-4b3b-806e-b1c6b466f095')\"\n",
       "            title=\"Convert this dataframe to an interactive table.\"\n",
       "            style=\"display:none;\">\n",
       "\n",
       "  <svg xmlns=\"http://www.w3.org/2000/svg\" height=\"24px\" viewBox=\"0 -960 960 960\">\n",
       "    <path d=\"M120-120v-720h720v720H120Zm60-500h600v-160H180v160Zm220 220h160v-160H400v160Zm0 220h160v-160H400v160ZM180-400h160v-160H180v160Zm440 0h160v-160H620v160ZM180-180h160v-160H180v160Zm440 0h160v-160H620v160Z\"/>\n",
       "  </svg>\n",
       "    </button>\n",
       "\n",
       "  <style>\n",
       "    .colab-df-container {\n",
       "      display:flex;\n",
       "      gap: 12px;\n",
       "    }\n",
       "\n",
       "    .colab-df-convert {\n",
       "      background-color: #E8F0FE;\n",
       "      border: none;\n",
       "      border-radius: 50%;\n",
       "      cursor: pointer;\n",
       "      display: none;\n",
       "      fill: #1967D2;\n",
       "      height: 32px;\n",
       "      padding: 0 0 0 0;\n",
       "      width: 32px;\n",
       "    }\n",
       "\n",
       "    .colab-df-convert:hover {\n",
       "      background-color: #E2EBFA;\n",
       "      box-shadow: 0px 1px 2px rgba(60, 64, 67, 0.3), 0px 1px 3px 1px rgba(60, 64, 67, 0.15);\n",
       "      fill: #174EA6;\n",
       "    }\n",
       "\n",
       "    .colab-df-buttons div {\n",
       "      margin-bottom: 4px;\n",
       "    }\n",
       "\n",
       "    [theme=dark] .colab-df-convert {\n",
       "      background-color: #3B4455;\n",
       "      fill: #D2E3FC;\n",
       "    }\n",
       "\n",
       "    [theme=dark] .colab-df-convert:hover {\n",
       "      background-color: #434B5C;\n",
       "      box-shadow: 0px 1px 3px 1px rgba(0, 0, 0, 0.15);\n",
       "      filter: drop-shadow(0px 1px 2px rgba(0, 0, 0, 0.3));\n",
       "      fill: #FFFFFF;\n",
       "    }\n",
       "  </style>\n",
       "\n",
       "    <script>\n",
       "      const buttonEl =\n",
       "        document.querySelector('#df-605459b8-76f8-4b3b-806e-b1c6b466f095 button.colab-df-convert');\n",
       "      buttonEl.style.display =\n",
       "        google.colab.kernel.accessAllowed ? 'block' : 'none';\n",
       "\n",
       "      async function convertToInteractive(key) {\n",
       "        const element = document.querySelector('#df-605459b8-76f8-4b3b-806e-b1c6b466f095');\n",
       "        const dataTable =\n",
       "          await google.colab.kernel.invokeFunction('convertToInteractive',\n",
       "                                                    [key], {});\n",
       "        if (!dataTable) return;\n",
       "\n",
       "        const docLinkHtml = 'Like what you see? Visit the ' +\n",
       "          '<a target=\"_blank\" href=https://colab.research.google.com/notebooks/data_table.ipynb>data table notebook</a>'\n",
       "          + ' to learn more about interactive tables.';\n",
       "        element.innerHTML = '';\n",
       "        dataTable['output_type'] = 'display_data';\n",
       "        await google.colab.output.renderOutput(dataTable, element);\n",
       "        const docLink = document.createElement('div');\n",
       "        docLink.innerHTML = docLinkHtml;\n",
       "        element.appendChild(docLink);\n",
       "      }\n",
       "    </script>\n",
       "  </div>\n",
       "\n",
       "\n",
       "<div id=\"df-2deeb0a6-d8e4-4d2f-afd8-b188c8650ba7\">\n",
       "  <button class=\"colab-df-quickchart\" onclick=\"quickchart('df-2deeb0a6-d8e4-4d2f-afd8-b188c8650ba7')\"\n",
       "            title=\"Suggest charts\"\n",
       "            style=\"display:none;\">\n",
       "\n",
       "<svg xmlns=\"http://www.w3.org/2000/svg\" height=\"24px\"viewBox=\"0 0 24 24\"\n",
       "     width=\"24px\">\n",
       "    <g>\n",
       "        <path d=\"M19 3H5c-1.1 0-2 .9-2 2v14c0 1.1.9 2 2 2h14c1.1 0 2-.9 2-2V5c0-1.1-.9-2-2-2zM9 17H7v-7h2v7zm4 0h-2V7h2v10zm4 0h-2v-4h2v4z\"/>\n",
       "    </g>\n",
       "</svg>\n",
       "  </button>\n",
       "\n",
       "<style>\n",
       "  .colab-df-quickchart {\n",
       "      --bg-color: #E8F0FE;\n",
       "      --fill-color: #1967D2;\n",
       "      --hover-bg-color: #E2EBFA;\n",
       "      --hover-fill-color: #174EA6;\n",
       "      --disabled-fill-color: #AAA;\n",
       "      --disabled-bg-color: #DDD;\n",
       "  }\n",
       "\n",
       "  [theme=dark] .colab-df-quickchart {\n",
       "      --bg-color: #3B4455;\n",
       "      --fill-color: #D2E3FC;\n",
       "      --hover-bg-color: #434B5C;\n",
       "      --hover-fill-color: #FFFFFF;\n",
       "      --disabled-bg-color: #3B4455;\n",
       "      --disabled-fill-color: #666;\n",
       "  }\n",
       "\n",
       "  .colab-df-quickchart {\n",
       "    background-color: var(--bg-color);\n",
       "    border: none;\n",
       "    border-radius: 50%;\n",
       "    cursor: pointer;\n",
       "    display: none;\n",
       "    fill: var(--fill-color);\n",
       "    height: 32px;\n",
       "    padding: 0;\n",
       "    width: 32px;\n",
       "  }\n",
       "\n",
       "  .colab-df-quickchart:hover {\n",
       "    background-color: var(--hover-bg-color);\n",
       "    box-shadow: 0 1px 2px rgba(60, 64, 67, 0.3), 0 1px 3px 1px rgba(60, 64, 67, 0.15);\n",
       "    fill: var(--button-hover-fill-color);\n",
       "  }\n",
       "\n",
       "  .colab-df-quickchart-complete:disabled,\n",
       "  .colab-df-quickchart-complete:disabled:hover {\n",
       "    background-color: var(--disabled-bg-color);\n",
       "    fill: var(--disabled-fill-color);\n",
       "    box-shadow: none;\n",
       "  }\n",
       "\n",
       "  .colab-df-spinner {\n",
       "    border: 2px solid var(--fill-color);\n",
       "    border-color: transparent;\n",
       "    border-bottom-color: var(--fill-color);\n",
       "    animation:\n",
       "      spin 1s steps(1) infinite;\n",
       "  }\n",
       "\n",
       "  @keyframes spin {\n",
       "    0% {\n",
       "      border-color: transparent;\n",
       "      border-bottom-color: var(--fill-color);\n",
       "      border-left-color: var(--fill-color);\n",
       "    }\n",
       "    20% {\n",
       "      border-color: transparent;\n",
       "      border-left-color: var(--fill-color);\n",
       "      border-top-color: var(--fill-color);\n",
       "    }\n",
       "    30% {\n",
       "      border-color: transparent;\n",
       "      border-left-color: var(--fill-color);\n",
       "      border-top-color: var(--fill-color);\n",
       "      border-right-color: var(--fill-color);\n",
       "    }\n",
       "    40% {\n",
       "      border-color: transparent;\n",
       "      border-right-color: var(--fill-color);\n",
       "      border-top-color: var(--fill-color);\n",
       "    }\n",
       "    60% {\n",
       "      border-color: transparent;\n",
       "      border-right-color: var(--fill-color);\n",
       "    }\n",
       "    80% {\n",
       "      border-color: transparent;\n",
       "      border-right-color: var(--fill-color);\n",
       "      border-bottom-color: var(--fill-color);\n",
       "    }\n",
       "    90% {\n",
       "      border-color: transparent;\n",
       "      border-bottom-color: var(--fill-color);\n",
       "    }\n",
       "  }\n",
       "</style>\n",
       "\n",
       "  <script>\n",
       "    async function quickchart(key) {\n",
       "      const quickchartButtonEl =\n",
       "        document.querySelector('#' + key + ' button');\n",
       "      quickchartButtonEl.disabled = true;  // To prevent multiple clicks.\n",
       "      quickchartButtonEl.classList.add('colab-df-spinner');\n",
       "      try {\n",
       "        const charts = await google.colab.kernel.invokeFunction(\n",
       "            'suggestCharts', [key], {});\n",
       "      } catch (error) {\n",
       "        console.error('Error during call to suggestCharts:', error);\n",
       "      }\n",
       "      quickchartButtonEl.classList.remove('colab-df-spinner');\n",
       "      quickchartButtonEl.classList.add('colab-df-quickchart-complete');\n",
       "    }\n",
       "    (() => {\n",
       "      let quickchartButtonEl =\n",
       "        document.querySelector('#df-2deeb0a6-d8e4-4d2f-afd8-b188c8650ba7 button');\n",
       "      quickchartButtonEl.style.display =\n",
       "        google.colab.kernel.accessAllowed ? 'block' : 'none';\n",
       "    })();\n",
       "  </script>\n",
       "</div>\n",
       "    </div>\n",
       "  </div>\n"
      ]
     },
     "metadata": {},
     "execution_count": 5
    }
   ]
  },
  {
   "cell_type": "markdown",
   "source": [
    "`df_edges` contains list of edges."
   ],
   "metadata": {
    "id": "Ox8_87JYNYoH",
    "pycharm": {
     "name": "#%% md\n"
    }
   }
  },
  {
   "cell_type": "code",
   "source": [
    "# edges\n",
    "df_edges.head()"
   ],
   "metadata": {
    "colab": {
     "base_uri": "https://localhost:8080/",
     "height": 206
    },
    "id": "i8hGBf8BSR69",
    "outputId": "667bbdb3-3769-42c9-c1e1-cce545e7e2ec",
    "pycharm": {
     "name": "#%%\n"
    }
   },
   "execution_count": 6,
   "outputs": [
    {
     "output_type": "execute_result",
     "data": {
      "text/plain": [
       "       txId1      txId2\n",
       "0  230425980    5530458\n",
       "1  232022460  232438397\n",
       "2  230460314  230459870\n",
       "3  230333930  230595899\n",
       "4  232013274  232029206"
      ],
      "text/html": [
       "\n",
       "  <div id=\"df-d7b29131-150d-4a4a-a351-879f4e98d031\" class=\"colab-df-container\">\n",
       "    <div>\n",
       "<style scoped>\n",
       "    .dataframe tbody tr th:only-of-type {\n",
       "        vertical-align: middle;\n",
       "    }\n",
       "\n",
       "    .dataframe tbody tr th {\n",
       "        vertical-align: top;\n",
       "    }\n",
       "\n",
       "    .dataframe thead th {\n",
       "        text-align: right;\n",
       "    }\n",
       "</style>\n",
       "<table border=\"1\" class=\"dataframe\">\n",
       "  <thead>\n",
       "    <tr style=\"text-align: right;\">\n",
       "      <th></th>\n",
       "      <th>txId1</th>\n",
       "      <th>txId2</th>\n",
       "    </tr>\n",
       "  </thead>\n",
       "  <tbody>\n",
       "    <tr>\n",
       "      <th>0</th>\n",
       "      <td>230425980</td>\n",
       "      <td>5530458</td>\n",
       "    </tr>\n",
       "    <tr>\n",
       "      <th>1</th>\n",
       "      <td>232022460</td>\n",
       "      <td>232438397</td>\n",
       "    </tr>\n",
       "    <tr>\n",
       "      <th>2</th>\n",
       "      <td>230460314</td>\n",
       "      <td>230459870</td>\n",
       "    </tr>\n",
       "    <tr>\n",
       "      <th>3</th>\n",
       "      <td>230333930</td>\n",
       "      <td>230595899</td>\n",
       "    </tr>\n",
       "    <tr>\n",
       "      <th>4</th>\n",
       "      <td>232013274</td>\n",
       "      <td>232029206</td>\n",
       "    </tr>\n",
       "  </tbody>\n",
       "</table>\n",
       "</div>\n",
       "    <div class=\"colab-df-buttons\">\n",
       "\n",
       "  <div class=\"colab-df-container\">\n",
       "    <button class=\"colab-df-convert\" onclick=\"convertToInteractive('df-d7b29131-150d-4a4a-a351-879f4e98d031')\"\n",
       "            title=\"Convert this dataframe to an interactive table.\"\n",
       "            style=\"display:none;\">\n",
       "\n",
       "  <svg xmlns=\"http://www.w3.org/2000/svg\" height=\"24px\" viewBox=\"0 -960 960 960\">\n",
       "    <path d=\"M120-120v-720h720v720H120Zm60-500h600v-160H180v160Zm220 220h160v-160H400v160Zm0 220h160v-160H400v160ZM180-400h160v-160H180v160Zm440 0h160v-160H620v160ZM180-180h160v-160H180v160Zm440 0h160v-160H620v160Z\"/>\n",
       "  </svg>\n",
       "    </button>\n",
       "\n",
       "  <style>\n",
       "    .colab-df-container {\n",
       "      display:flex;\n",
       "      gap: 12px;\n",
       "    }\n",
       "\n",
       "    .colab-df-convert {\n",
       "      background-color: #E8F0FE;\n",
       "      border: none;\n",
       "      border-radius: 50%;\n",
       "      cursor: pointer;\n",
       "      display: none;\n",
       "      fill: #1967D2;\n",
       "      height: 32px;\n",
       "      padding: 0 0 0 0;\n",
       "      width: 32px;\n",
       "    }\n",
       "\n",
       "    .colab-df-convert:hover {\n",
       "      background-color: #E2EBFA;\n",
       "      box-shadow: 0px 1px 2px rgba(60, 64, 67, 0.3), 0px 1px 3px 1px rgba(60, 64, 67, 0.15);\n",
       "      fill: #174EA6;\n",
       "    }\n",
       "\n",
       "    .colab-df-buttons div {\n",
       "      margin-bottom: 4px;\n",
       "    }\n",
       "\n",
       "    [theme=dark] .colab-df-convert {\n",
       "      background-color: #3B4455;\n",
       "      fill: #D2E3FC;\n",
       "    }\n",
       "\n",
       "    [theme=dark] .colab-df-convert:hover {\n",
       "      background-color: #434B5C;\n",
       "      box-shadow: 0px 1px 3px 1px rgba(0, 0, 0, 0.15);\n",
       "      filter: drop-shadow(0px 1px 2px rgba(0, 0, 0, 0.3));\n",
       "      fill: #FFFFFF;\n",
       "    }\n",
       "  </style>\n",
       "\n",
       "    <script>\n",
       "      const buttonEl =\n",
       "        document.querySelector('#df-d7b29131-150d-4a4a-a351-879f4e98d031 button.colab-df-convert');\n",
       "      buttonEl.style.display =\n",
       "        google.colab.kernel.accessAllowed ? 'block' : 'none';\n",
       "\n",
       "      async function convertToInteractive(key) {\n",
       "        const element = document.querySelector('#df-d7b29131-150d-4a4a-a351-879f4e98d031');\n",
       "        const dataTable =\n",
       "          await google.colab.kernel.invokeFunction('convertToInteractive',\n",
       "                                                    [key], {});\n",
       "        if (!dataTable) return;\n",
       "\n",
       "        const docLinkHtml = 'Like what you see? Visit the ' +\n",
       "          '<a target=\"_blank\" href=https://colab.research.google.com/notebooks/data_table.ipynb>data table notebook</a>'\n",
       "          + ' to learn more about interactive tables.';\n",
       "        element.innerHTML = '';\n",
       "        dataTable['output_type'] = 'display_data';\n",
       "        await google.colab.output.renderOutput(dataTable, element);\n",
       "        const docLink = document.createElement('div');\n",
       "        docLink.innerHTML = docLinkHtml;\n",
       "        element.appendChild(docLink);\n",
       "      }\n",
       "    </script>\n",
       "  </div>\n",
       "\n",
       "\n",
       "<div id=\"df-d9b14346-b5cd-4396-9758-8698219a15cc\">\n",
       "  <button class=\"colab-df-quickchart\" onclick=\"quickchart('df-d9b14346-b5cd-4396-9758-8698219a15cc')\"\n",
       "            title=\"Suggest charts\"\n",
       "            style=\"display:none;\">\n",
       "\n",
       "<svg xmlns=\"http://www.w3.org/2000/svg\" height=\"24px\"viewBox=\"0 0 24 24\"\n",
       "     width=\"24px\">\n",
       "    <g>\n",
       "        <path d=\"M19 3H5c-1.1 0-2 .9-2 2v14c0 1.1.9 2 2 2h14c1.1 0 2-.9 2-2V5c0-1.1-.9-2-2-2zM9 17H7v-7h2v7zm4 0h-2V7h2v10zm4 0h-2v-4h2v4z\"/>\n",
       "    </g>\n",
       "</svg>\n",
       "  </button>\n",
       "\n",
       "<style>\n",
       "  .colab-df-quickchart {\n",
       "      --bg-color: #E8F0FE;\n",
       "      --fill-color: #1967D2;\n",
       "      --hover-bg-color: #E2EBFA;\n",
       "      --hover-fill-color: #174EA6;\n",
       "      --disabled-fill-color: #AAA;\n",
       "      --disabled-bg-color: #DDD;\n",
       "  }\n",
       "\n",
       "  [theme=dark] .colab-df-quickchart {\n",
       "      --bg-color: #3B4455;\n",
       "      --fill-color: #D2E3FC;\n",
       "      --hover-bg-color: #434B5C;\n",
       "      --hover-fill-color: #FFFFFF;\n",
       "      --disabled-bg-color: #3B4455;\n",
       "      --disabled-fill-color: #666;\n",
       "  }\n",
       "\n",
       "  .colab-df-quickchart {\n",
       "    background-color: var(--bg-color);\n",
       "    border: none;\n",
       "    border-radius: 50%;\n",
       "    cursor: pointer;\n",
       "    display: none;\n",
       "    fill: var(--fill-color);\n",
       "    height: 32px;\n",
       "    padding: 0;\n",
       "    width: 32px;\n",
       "  }\n",
       "\n",
       "  .colab-df-quickchart:hover {\n",
       "    background-color: var(--hover-bg-color);\n",
       "    box-shadow: 0 1px 2px rgba(60, 64, 67, 0.3), 0 1px 3px 1px rgba(60, 64, 67, 0.15);\n",
       "    fill: var(--button-hover-fill-color);\n",
       "  }\n",
       "\n",
       "  .colab-df-quickchart-complete:disabled,\n",
       "  .colab-df-quickchart-complete:disabled:hover {\n",
       "    background-color: var(--disabled-bg-color);\n",
       "    fill: var(--disabled-fill-color);\n",
       "    box-shadow: none;\n",
       "  }\n",
       "\n",
       "  .colab-df-spinner {\n",
       "    border: 2px solid var(--fill-color);\n",
       "    border-color: transparent;\n",
       "    border-bottom-color: var(--fill-color);\n",
       "    animation:\n",
       "      spin 1s steps(1) infinite;\n",
       "  }\n",
       "\n",
       "  @keyframes spin {\n",
       "    0% {\n",
       "      border-color: transparent;\n",
       "      border-bottom-color: var(--fill-color);\n",
       "      border-left-color: var(--fill-color);\n",
       "    }\n",
       "    20% {\n",
       "      border-color: transparent;\n",
       "      border-left-color: var(--fill-color);\n",
       "      border-top-color: var(--fill-color);\n",
       "    }\n",
       "    30% {\n",
       "      border-color: transparent;\n",
       "      border-left-color: var(--fill-color);\n",
       "      border-top-color: var(--fill-color);\n",
       "      border-right-color: var(--fill-color);\n",
       "    }\n",
       "    40% {\n",
       "      border-color: transparent;\n",
       "      border-right-color: var(--fill-color);\n",
       "      border-top-color: var(--fill-color);\n",
       "    }\n",
       "    60% {\n",
       "      border-color: transparent;\n",
       "      border-right-color: var(--fill-color);\n",
       "    }\n",
       "    80% {\n",
       "      border-color: transparent;\n",
       "      border-right-color: var(--fill-color);\n",
       "      border-bottom-color: var(--fill-color);\n",
       "    }\n",
       "    90% {\n",
       "      border-color: transparent;\n",
       "      border-bottom-color: var(--fill-color);\n",
       "    }\n",
       "  }\n",
       "</style>\n",
       "\n",
       "  <script>\n",
       "    async function quickchart(key) {\n",
       "      const quickchartButtonEl =\n",
       "        document.querySelector('#' + key + ' button');\n",
       "      quickchartButtonEl.disabled = true;  // To prevent multiple clicks.\n",
       "      quickchartButtonEl.classList.add('colab-df-spinner');\n",
       "      try {\n",
       "        const charts = await google.colab.kernel.invokeFunction(\n",
       "            'suggestCharts', [key], {});\n",
       "      } catch (error) {\n",
       "        console.error('Error during call to suggestCharts:', error);\n",
       "      }\n",
       "      quickchartButtonEl.classList.remove('colab-df-spinner');\n",
       "      quickchartButtonEl.classList.add('colab-df-quickchart-complete');\n",
       "    }\n",
       "    (() => {\n",
       "      let quickchartButtonEl =\n",
       "        document.querySelector('#df-d9b14346-b5cd-4396-9758-8698219a15cc button');\n",
       "      quickchartButtonEl.style.display =\n",
       "        google.colab.kernel.accessAllowed ? 'block' : 'none';\n",
       "    })();\n",
       "  </script>\n",
       "</div>\n",
       "    </div>\n",
       "  </div>\n"
      ]
     },
     "metadata": {},
     "execution_count": 6
    }
   ]
  },
  {
   "cell_type": "markdown",
   "source": [
    "`df_classes` contains each node id and corresponding class, where *0 - licit, 1 - ilicit* and *2 - unknown*."
   ],
   "metadata": {
    "id": "9dAnQJiuNeEl",
    "pycharm": {
     "name": "#%% md\n"
    }
   }
  },
  {
   "cell_type": "code",
   "source": [
    "# classes\n",
    "# 0 — legitimate\n",
    "# 1 — fraud\n",
    "# 2 — unknown class\n",
    "df_classes.head()"
   ],
   "metadata": {
    "colab": {
     "base_uri": "https://localhost:8080/",
     "height": 206
    },
    "id": "3kYL60TDSYDB",
    "outputId": "4a8c0952-cdee-44c2-b1d5-b7ba778b6b60",
    "pycharm": {
     "name": "#%%\n"
    }
   },
   "execution_count": 7,
   "outputs": [
    {
     "output_type": "execute_result",
     "data": {
      "text/plain": [
       "        txId  class\n",
       "0  230425980      2\n",
       "1    5530458      2\n",
       "2  232022460      2\n",
       "3  232438397      0\n",
       "4  230460314      2"
      ],
      "text/html": [
       "\n",
       "  <div id=\"df-1e641a01-97a0-4a6c-b147-6547eaf8c1eb\" class=\"colab-df-container\">\n",
       "    <div>\n",
       "<style scoped>\n",
       "    .dataframe tbody tr th:only-of-type {\n",
       "        vertical-align: middle;\n",
       "    }\n",
       "\n",
       "    .dataframe tbody tr th {\n",
       "        vertical-align: top;\n",
       "    }\n",
       "\n",
       "    .dataframe thead th {\n",
       "        text-align: right;\n",
       "    }\n",
       "</style>\n",
       "<table border=\"1\" class=\"dataframe\">\n",
       "  <thead>\n",
       "    <tr style=\"text-align: right;\">\n",
       "      <th></th>\n",
       "      <th>txId</th>\n",
       "      <th>class</th>\n",
       "    </tr>\n",
       "  </thead>\n",
       "  <tbody>\n",
       "    <tr>\n",
       "      <th>0</th>\n",
       "      <td>230425980</td>\n",
       "      <td>2</td>\n",
       "    </tr>\n",
       "    <tr>\n",
       "      <th>1</th>\n",
       "      <td>5530458</td>\n",
       "      <td>2</td>\n",
       "    </tr>\n",
       "    <tr>\n",
       "      <th>2</th>\n",
       "      <td>232022460</td>\n",
       "      <td>2</td>\n",
       "    </tr>\n",
       "    <tr>\n",
       "      <th>3</th>\n",
       "      <td>232438397</td>\n",
       "      <td>0</td>\n",
       "    </tr>\n",
       "    <tr>\n",
       "      <th>4</th>\n",
       "      <td>230460314</td>\n",
       "      <td>2</td>\n",
       "    </tr>\n",
       "  </tbody>\n",
       "</table>\n",
       "</div>\n",
       "    <div class=\"colab-df-buttons\">\n",
       "\n",
       "  <div class=\"colab-df-container\">\n",
       "    <button class=\"colab-df-convert\" onclick=\"convertToInteractive('df-1e641a01-97a0-4a6c-b147-6547eaf8c1eb')\"\n",
       "            title=\"Convert this dataframe to an interactive table.\"\n",
       "            style=\"display:none;\">\n",
       "\n",
       "  <svg xmlns=\"http://www.w3.org/2000/svg\" height=\"24px\" viewBox=\"0 -960 960 960\">\n",
       "    <path d=\"M120-120v-720h720v720H120Zm60-500h600v-160H180v160Zm220 220h160v-160H400v160Zm0 220h160v-160H400v160ZM180-400h160v-160H180v160Zm440 0h160v-160H620v160ZM180-180h160v-160H180v160Zm440 0h160v-160H620v160Z\"/>\n",
       "  </svg>\n",
       "    </button>\n",
       "\n",
       "  <style>\n",
       "    .colab-df-container {\n",
       "      display:flex;\n",
       "      gap: 12px;\n",
       "    }\n",
       "\n",
       "    .colab-df-convert {\n",
       "      background-color: #E8F0FE;\n",
       "      border: none;\n",
       "      border-radius: 50%;\n",
       "      cursor: pointer;\n",
       "      display: none;\n",
       "      fill: #1967D2;\n",
       "      height: 32px;\n",
       "      padding: 0 0 0 0;\n",
       "      width: 32px;\n",
       "    }\n",
       "\n",
       "    .colab-df-convert:hover {\n",
       "      background-color: #E2EBFA;\n",
       "      box-shadow: 0px 1px 2px rgba(60, 64, 67, 0.3), 0px 1px 3px 1px rgba(60, 64, 67, 0.15);\n",
       "      fill: #174EA6;\n",
       "    }\n",
       "\n",
       "    .colab-df-buttons div {\n",
       "      margin-bottom: 4px;\n",
       "    }\n",
       "\n",
       "    [theme=dark] .colab-df-convert {\n",
       "      background-color: #3B4455;\n",
       "      fill: #D2E3FC;\n",
       "    }\n",
       "\n",
       "    [theme=dark] .colab-df-convert:hover {\n",
       "      background-color: #434B5C;\n",
       "      box-shadow: 0px 1px 3px 1px rgba(0, 0, 0, 0.15);\n",
       "      filter: drop-shadow(0px 1px 2px rgba(0, 0, 0, 0.3));\n",
       "      fill: #FFFFFF;\n",
       "    }\n",
       "  </style>\n",
       "\n",
       "    <script>\n",
       "      const buttonEl =\n",
       "        document.querySelector('#df-1e641a01-97a0-4a6c-b147-6547eaf8c1eb button.colab-df-convert');\n",
       "      buttonEl.style.display =\n",
       "        google.colab.kernel.accessAllowed ? 'block' : 'none';\n",
       "\n",
       "      async function convertToInteractive(key) {\n",
       "        const element = document.querySelector('#df-1e641a01-97a0-4a6c-b147-6547eaf8c1eb');\n",
       "        const dataTable =\n",
       "          await google.colab.kernel.invokeFunction('convertToInteractive',\n",
       "                                                    [key], {});\n",
       "        if (!dataTable) return;\n",
       "\n",
       "        const docLinkHtml = 'Like what you see? Visit the ' +\n",
       "          '<a target=\"_blank\" href=https://colab.research.google.com/notebooks/data_table.ipynb>data table notebook</a>'\n",
       "          + ' to learn more about interactive tables.';\n",
       "        element.innerHTML = '';\n",
       "        dataTable['output_type'] = 'display_data';\n",
       "        await google.colab.output.renderOutput(dataTable, element);\n",
       "        const docLink = document.createElement('div');\n",
       "        docLink.innerHTML = docLinkHtml;\n",
       "        element.appendChild(docLink);\n",
       "      }\n",
       "    </script>\n",
       "  </div>\n",
       "\n",
       "\n",
       "<div id=\"df-19ecb52a-435f-4f0f-9df8-df89bb8b4554\">\n",
       "  <button class=\"colab-df-quickchart\" onclick=\"quickchart('df-19ecb52a-435f-4f0f-9df8-df89bb8b4554')\"\n",
       "            title=\"Suggest charts\"\n",
       "            style=\"display:none;\">\n",
       "\n",
       "<svg xmlns=\"http://www.w3.org/2000/svg\" height=\"24px\"viewBox=\"0 0 24 24\"\n",
       "     width=\"24px\">\n",
       "    <g>\n",
       "        <path d=\"M19 3H5c-1.1 0-2 .9-2 2v14c0 1.1.9 2 2 2h14c1.1 0 2-.9 2-2V5c0-1.1-.9-2-2-2zM9 17H7v-7h2v7zm4 0h-2V7h2v10zm4 0h-2v-4h2v4z\"/>\n",
       "    </g>\n",
       "</svg>\n",
       "  </button>\n",
       "\n",
       "<style>\n",
       "  .colab-df-quickchart {\n",
       "      --bg-color: #E8F0FE;\n",
       "      --fill-color: #1967D2;\n",
       "      --hover-bg-color: #E2EBFA;\n",
       "      --hover-fill-color: #174EA6;\n",
       "      --disabled-fill-color: #AAA;\n",
       "      --disabled-bg-color: #DDD;\n",
       "  }\n",
       "\n",
       "  [theme=dark] .colab-df-quickchart {\n",
       "      --bg-color: #3B4455;\n",
       "      --fill-color: #D2E3FC;\n",
       "      --hover-bg-color: #434B5C;\n",
       "      --hover-fill-color: #FFFFFF;\n",
       "      --disabled-bg-color: #3B4455;\n",
       "      --disabled-fill-color: #666;\n",
       "  }\n",
       "\n",
       "  .colab-df-quickchart {\n",
       "    background-color: var(--bg-color);\n",
       "    border: none;\n",
       "    border-radius: 50%;\n",
       "    cursor: pointer;\n",
       "    display: none;\n",
       "    fill: var(--fill-color);\n",
       "    height: 32px;\n",
       "    padding: 0;\n",
       "    width: 32px;\n",
       "  }\n",
       "\n",
       "  .colab-df-quickchart:hover {\n",
       "    background-color: var(--hover-bg-color);\n",
       "    box-shadow: 0 1px 2px rgba(60, 64, 67, 0.3), 0 1px 3px 1px rgba(60, 64, 67, 0.15);\n",
       "    fill: var(--button-hover-fill-color);\n",
       "  }\n",
       "\n",
       "  .colab-df-quickchart-complete:disabled,\n",
       "  .colab-df-quickchart-complete:disabled:hover {\n",
       "    background-color: var(--disabled-bg-color);\n",
       "    fill: var(--disabled-fill-color);\n",
       "    box-shadow: none;\n",
       "  }\n",
       "\n",
       "  .colab-df-spinner {\n",
       "    border: 2px solid var(--fill-color);\n",
       "    border-color: transparent;\n",
       "    border-bottom-color: var(--fill-color);\n",
       "    animation:\n",
       "      spin 1s steps(1) infinite;\n",
       "  }\n",
       "\n",
       "  @keyframes spin {\n",
       "    0% {\n",
       "      border-color: transparent;\n",
       "      border-bottom-color: var(--fill-color);\n",
       "      border-left-color: var(--fill-color);\n",
       "    }\n",
       "    20% {\n",
       "      border-color: transparent;\n",
       "      border-left-color: var(--fill-color);\n",
       "      border-top-color: var(--fill-color);\n",
       "    }\n",
       "    30% {\n",
       "      border-color: transparent;\n",
       "      border-left-color: var(--fill-color);\n",
       "      border-top-color: var(--fill-color);\n",
       "      border-right-color: var(--fill-color);\n",
       "    }\n",
       "    40% {\n",
       "      border-color: transparent;\n",
       "      border-right-color: var(--fill-color);\n",
       "      border-top-color: var(--fill-color);\n",
       "    }\n",
       "    60% {\n",
       "      border-color: transparent;\n",
       "      border-right-color: var(--fill-color);\n",
       "    }\n",
       "    80% {\n",
       "      border-color: transparent;\n",
       "      border-right-color: var(--fill-color);\n",
       "      border-bottom-color: var(--fill-color);\n",
       "    }\n",
       "    90% {\n",
       "      border-color: transparent;\n",
       "      border-bottom-color: var(--fill-color);\n",
       "    }\n",
       "  }\n",
       "</style>\n",
       "\n",
       "  <script>\n",
       "    async function quickchart(key) {\n",
       "      const quickchartButtonEl =\n",
       "        document.querySelector('#' + key + ' button');\n",
       "      quickchartButtonEl.disabled = true;  // To prevent multiple clicks.\n",
       "      quickchartButtonEl.classList.add('colab-df-spinner');\n",
       "      try {\n",
       "        const charts = await google.colab.kernel.invokeFunction(\n",
       "            'suggestCharts', [key], {});\n",
       "      } catch (error) {\n",
       "        console.error('Error during call to suggestCharts:', error);\n",
       "      }\n",
       "      quickchartButtonEl.classList.remove('colab-df-spinner');\n",
       "      quickchartButtonEl.classList.add('colab-df-quickchart-complete');\n",
       "    }\n",
       "    (() => {\n",
       "      let quickchartButtonEl =\n",
       "        document.querySelector('#df-19ecb52a-435f-4f0f-9df8-df89bb8b4554 button');\n",
       "      quickchartButtonEl.style.display =\n",
       "        google.colab.kernel.accessAllowed ? 'block' : 'none';\n",
       "    })();\n",
       "  </script>\n",
       "</div>\n",
       "    </div>\n",
       "  </div>\n"
      ]
     },
     "metadata": {},
     "execution_count": 7
    }
   ]
  },
  {
   "cell_type": "markdown",
   "source": [
    "Here is the class distribution."
   ],
   "metadata": {
    "id": "eof35uTON8EB",
    "pycharm": {
     "name": "#%% md\n"
    }
   }
  },
  {
   "cell_type": "code",
   "source": [
    "df_classes['class'].value_counts()"
   ],
   "metadata": {
    "colab": {
     "base_uri": "https://localhost:8080/"
    },
    "id": "cWyVPhVzSwfV",
    "outputId": "6cc0cbe3-dc46-4bbb-d45d-3b216566a473",
    "pycharm": {
     "name": "#%%\n"
    }
   },
   "execution_count": 8,
   "outputs": [
    {
     "output_type": "execute_result",
     "data": {
      "text/plain": [
       "2    157205\n",
       "0     42019\n",
       "1      4545\n",
       "Name: class, dtype: int64"
      ]
     },
     "metadata": {},
     "execution_count": 8
    }
   ]
  },
  {
   "cell_type": "markdown",
   "source": [
    "## Preprocessing\n",
    "Now, let's convert our data into the `torch_geometric.data.Data` object. First, let's make a dataframe that contains both node features and class."
   ],
   "metadata": {
    "id": "T_YwFm_wDL4h",
    "pycharm": {
     "name": "#%% md\n"
    }
   }
  },
  {
   "cell_type": "code",
   "source": [
    "# merging node features DF with classes DF\n",
    "df_merge = df_features.merge(df_classes, how='left', right_on=\"txId\", left_on=0)\n",
    "df_merge = df_merge.sort_values(0).reset_index(drop=True)"
   ],
   "metadata": {
    "id": "dK-LV7FGS6rp",
    "pycharm": {
     "name": "#%%\n"
    }
   },
   "execution_count": 9,
   "outputs": []
  },
  {
   "cell_type": "markdown",
   "source": [
    "Next, we will need edges in a [COO format](https://en.wikipedia.org/wiki/Sparse_matrix#Coordinate_list_(COO)). To do that, we map `edges.txId1` and `edges.txId2` to the indices of the corresponding nodes in a `df_merge`. In the end we store edge indices as `torch.Tensor`."
   ],
   "metadata": {
    "id": "xrUlOznBSADI",
    "pycharm": {
     "name": "#%% md\n"
    }
   }
  },
  {
   "cell_type": "code",
   "source": [
    "# mapping nodes to indices\n",
    "nodes = df_merge[0].values\n",
    "map_id = {j:i for i,j in enumerate(nodes)}\n",
    "\n",
    "# mapping edges to indices\n",
    "edges = df_edges.copy()\n",
    "edges.txId1 = edges.txId1.map(map_id)\n",
    "edges.txId2 = edges.txId2.map(map_id)\n",
    "edges = edges.astype(int)\n",
    "\n",
    "edge_index = np.array(edges.values).T\n",
    "edge_index = torch.tensor(edge_index, dtype=torch.long).contiguous()\n",
    "\n",
    "# weights for the edges are equal in case of model without attention\n",
    "weights = torch.tensor([1] * edge_index.shape[1] , dtype=torch.float32)\n",
    "\n",
    "print(\"Total amount of edges in DAG:\", edge_index.shape)"
   ],
   "metadata": {
    "colab": {
     "base_uri": "https://localhost:8080/"
    },
    "id": "BeY5SDsUTJCv",
    "outputId": "3081f045-91da-4f53-ef51-5de0bc680f6b",
    "pycharm": {
     "name": "#%%\n"
    }
   },
   "execution_count": 10,
   "outputs": [
    {
     "output_type": "stream",
     "name": "stdout",
     "text": [
      "Total amount of edges in DAG: torch.Size([2, 234355])\n"
     ]
    }
   ]
  },
  {
   "cell_type": "markdown",
   "source": [
    "Next, we will need node feature matrix. Here we also map each ID to corresponding index. Then, we will store all the unknown nodes in `unclassified_idx`, that's why we remove class 2, since we no longer need it. In the end, we drop everything but features and store it as `torch.Tensor`."
   ],
   "metadata": {
    "id": "lmzjiavzUB29",
    "pycharm": {
     "name": "#%% md\n"
    }
   }
  },
  {
   "cell_type": "code",
   "source": [
    "# maping node ids to corresponding indexes\n",
    "node_features = df_merge.drop(['txId'], axis=1).copy()\n",
    "node_features[0] = node_features[0].map(map_id)\n",
    "\n",
    "# store known and unknown nodes\n",
    "classified_idx = node_features['class'].loc[node_features['class'] != 2].index\n",
    "unclassified_idx = node_features['class'].loc[node_features['class'] == 2].index\n",
    "\n",
    "# replace unkown class with 0, to avoid having 3 classes, this data/labels never used in training\n",
    "node_features['class'] = node_features['class'].replace(2, 0)\n",
    "\n",
    "labels = node_features['class'].values\n",
    "\n",
    "# drop indeces, class and temporal axes\n",
    "node_features = torch.tensor(np.array(node_features.drop([0, 'class', 1], axis=1).values, dtype=np.float32), dtype=torch.float32)"
   ],
   "metadata": {
    "id": "1HcUb6cETNzL",
    "pycharm": {
     "name": "#%%\n"
    }
   },
   "execution_count": 11,
   "outputs": []
  },
  {
   "cell_type": "markdown",
   "source": [
    "In this cell, we finally create an object of type `torch_geometric.data.Data`. Here, we pass following parameters:\n",
    "- `x` – Node feature matrix with shape.\n",
    "\n",
    "- `edge_index` – Graph connectivity in COO format with shape `[2, num_edges]`.\n",
    "\n",
    "- `edge_attr` – Edge feature matrix with shape `[num_edges, num_edge_features]`.\n",
    "\n",
    "- `y` – Graph-level or node-level ground-truth labels with arbitrary shape.\n",
    "\n",
    "We also print a brief description of our network."
   ],
   "metadata": {
    "id": "FznA1MeR2DNF",
    "pycharm": {
     "name": "#%% md\n"
    }
   }
  },
  {
   "cell_type": "code",
   "source": [
    "# converting data to PyGeometric graph data format\n",
    "elliptic_dataset = Data(x = node_features,\n",
    "                        edge_index = edge_index,\n",
    "                        edge_attr = weights,\n",
    "                        y = torch.tensor(labels, dtype=torch.float32))\n",
    "\n",
    "print(f'Number of nodes: {elliptic_dataset.num_nodes}')\n",
    "print(f'Number of node features: {elliptic_dataset.num_features}')\n",
    "print(f'Number of edges: {elliptic_dataset.num_edges}')\n",
    "print(f'Number of edge features: {elliptic_dataset.num_features}')\n",
    "print(f'Average node degree: {elliptic_dataset.num_edges / elliptic_dataset.num_nodes:.2f}')\n",
    "print(f'Number of classes: {len(np.unique(elliptic_dataset.y))}')\n",
    "print(f'Has isolated nodes: {elliptic_dataset.has_isolated_nodes()}')\n",
    "print(f'Has self loops: {elliptic_dataset.has_self_loops()}')\n",
    "print(f'Is directed: {elliptic_dataset.is_directed()}')"
   ],
   "metadata": {
    "colab": {
     "base_uri": "https://localhost:8080/"
    },
    "id": "HJRm8p4XTYCa",
    "outputId": "7d1a0e94-dd6e-4385-e72a-4bbd2b95883a",
    "pycharm": {
     "name": "#%%\n"
    }
   },
   "execution_count": 12,
   "outputs": [
    {
     "output_type": "stream",
     "name": "stdout",
     "text": [
      "Number of nodes: 203769\n",
      "Number of node features: 165\n",
      "Number of edges: 234355\n",
      "Number of edge features: 165\n",
      "Average node degree: 1.15\n",
      "Number of classes: 2\n",
      "Has isolated nodes: False\n",
      "Has self loops: False\n",
      "Is directed: True\n"
     ]
    }
   ]
  },
  {
   "cell_type": "markdown",
   "source": [
    "Here, we create a config to keep all parameters in one place."
   ],
   "metadata": {
    "id": "-ddCS3vbPoJo",
    "pycharm": {
     "name": "#%% md\n"
    }
   }
  },
  {
   "cell_type": "code",
   "source": [
    "config = SimpleNamespace(seed = 0,\n",
    "                         learning_rate = 0.001,\n",
    "                         weight_decay = 1e-5,\n",
    "                         input_dim = 165,\n",
    "                         output_dim = 1,\n",
    "                         hidden_size = 128,\n",
    "                         num_epochs = 400,\n",
    "                         checkpoints_dir = './models/elliptic_gnn',\n",
    "                         device = torch.device('cuda' if torch.cuda.is_available() else 'cpu'))\n",
    "\n",
    "print(\"Using device:\", config.device)"
   ],
   "metadata": {
    "id": "QycQ6u_2DUjt",
    "colab": {
     "base_uri": "https://localhost:8080/"
    },
    "outputId": "27999e6e-b2b4-49ee-db44-615874d3cdc6",
    "pycharm": {
     "name": "#%%\n"
    }
   },
   "execution_count": 13,
   "outputs": [
    {
     "output_type": "stream",
     "name": "stdout",
     "text": [
      "Using device: cuda\n"
     ]
    }
   ]
  },
  {
   "cell_type": "markdown",
   "source": [
    "Finally, we split our data into train, valid and test; where train and valid are 0.85 and 0.15 partitions of the classified nodes and test is all unclassified nodes."
   ],
   "metadata": {
    "id": "7aCQfRDn3i8g",
    "pycharm": {
     "name": "#%% md\n"
    }
   }
  },
  {
   "cell_type": "code",
   "source": [
    "y_train = labels[classified_idx]\n",
    "\n",
    "# spliting train set and validation set\n",
    "_, _, _, _, train_idx, valid_idx = train_test_split(node_features[classified_idx],\n",
    "                                                    y_train,\n",
    "                                                    classified_idx,\n",
    "                                                    test_size=0.15,\n",
    "                                                    random_state=config.seed,\n",
    "                                                    stratify=y_train)\n",
    "\n",
    "elliptic_dataset.train_idx = torch.tensor(train_idx, dtype=torch.long)\n",
    "elliptic_dataset.val_idx = torch.tensor(valid_idx, dtype=torch.long)\n",
    "elliptic_dataset.test_idx = torch.tensor(unclassified_idx, dtype=torch.long)\n",
    "\n",
    "print(\"Train dataset size:\", elliptic_dataset.train_idx.shape[0])\n",
    "print(\"Validation dataset size:\", elliptic_dataset.val_idx.shape[0])\n",
    "print(\"Test dataset size:\", elliptic_dataset.test_idx.shape[0])"
   ],
   "metadata": {
    "colab": {
     "base_uri": "https://localhost:8080/"
    },
    "id": "0LtZVK7rTd-B",
    "outputId": "bd888a70-1836-4a15-b28b-7a4f472d5504",
    "pycharm": {
     "name": "#%%\n"
    }
   },
   "execution_count": 14,
   "outputs": [
    {
     "output_type": "stream",
     "name": "stdout",
     "text": [
      "Train dataset size: 39579\n",
      "Validation dataset size: 6985\n",
      "Test dataset size: 157205\n"
     ]
    }
   ]
  },
  {
   "cell_type": "markdown",
   "source": [
    "## Model and metric definition\n",
    "Here, we will use 2 layers of graph attention: `self.gat1` and `self.gat2`, which are initialized with `torch_geometric.nn.GATv2Conv` class. Both attention layers use multi-headed attention, but on the output layer we use averaging, insted of concatenation, as proposed in theory part. We also apply **dropout** and **batch normalization** on each layer to improve stability.\n",
    "\n",
    "We also define **accuracy** metric here."
   ],
   "metadata": {
    "id": "frqmJGPN4cc4",
    "pycharm": {
     "name": "#%% md\n"
    }
   }
  },
  {
   "cell_type": "code",
   "source": [
    "class GAT(torch.nn.Module):\n",
    "    \"\"\"Graph Attention Network\"\"\"\n",
    "    def __init__(self, dim_in, dim_h, dim_out, heads=8):\n",
    "        super(GAT, self).__init__()\n",
    "        self.norm1 = BatchNorm1d(dim_in)\n",
    "        self.gat1 = GATv2Conv(dim_in, dim_h, heads=heads,\n",
    "                              dropout=0.3)\n",
    "        self.norm2 = BatchNorm1d(dim_h*heads)\n",
    "        self.gat2 = GATv2Conv(dim_h*heads, dim_out, heads=heads,\n",
    "                              concat=False, dropout=0.6)\n",
    "\n",
    "    def forward(self, x, edge_index):\n",
    "        h = self.norm1(x)\n",
    "        h = self.gat1(h, edge_index)\n",
    "        h = self.norm2(h)\n",
    "        h = F.leaky_relu(h)\n",
    "        out = self.gat2(h, edge_index)\n",
    "        return out\n",
    "\n",
    "def accuracy(y_pred, y_test, prediction_threshold=0.5):\n",
    "    y_pred_label = (torch.sigmoid(y_pred) > prediction_threshold).float()\n",
    "\n",
    "    correct_results_sum = (y_pred_label == y_test).sum().float()\n",
    "    acc = correct_results_sum/y_test.shape[0]\n",
    "\n",
    "    return acc"
   ],
   "metadata": {
    "id": "7bmIVz68UEDA",
    "pycharm": {
     "name": "#%%\n"
    }
   },
   "execution_count": 15,
   "outputs": []
  },
  {
   "cell_type": "markdown",
   "source": [
    "## Training\n",
    "Here we do simple training and testing for binary classification just like in pure **PyTorch**.\n",
    "\n",
    "*See [PyTorch Tutorials](https://pytorch.org/tutorials/beginner/introyt/trainingyt.html) for reference.*"
   ],
   "metadata": {
    "id": "yEL1jZ3L4kfe",
    "pycharm": {
     "name": "#%% md\n"
    }
   }
  },
  {
   "cell_type": "code",
   "source": [
    "def train_evaluate(model, data, criterion, optimizer, *args):\n",
    "    num_epochs = args[0]\n",
    "    checkpoints_dir = args[1]\n",
    "    model_filename = args[2]\n",
    "\n",
    "    best_model_wts = copy.deepcopy(model.state_dict())\n",
    "\n",
    "    best_loss = float('inf')\n",
    "\n",
    "    if not os.path.exists(checkpoints_dir):\n",
    "        os.makedirs(checkpoints_dir)\n",
    "\n",
    "    model.train()\n",
    "    for epoch in range(num_epochs+1):\n",
    "        # Training\n",
    "        optimizer.zero_grad()\n",
    "        out = model(data.x, data.edge_index)\n",
    "        loss = criterion(out[data.train_idx], data.y[data.train_idx].unsqueeze(1))\n",
    "        acc = accuracy(out[data.train_idx], data.y[data.train_idx].unsqueeze(1), prediction_threshold=0.5)\n",
    "        loss.backward()\n",
    "        optimizer.step()\n",
    "\n",
    "        # Validation\n",
    "        val_loss = criterion(out[data.val_idx], data.y[data.val_idx].unsqueeze(1))\n",
    "        val_acc = accuracy(out[data.val_idx], data.y[data.val_idx].unsqueeze(1), prediction_threshold=0.5)\n",
    "\n",
    "        if epoch % 10 == 0:\n",
    "            print(f'Epoch {epoch:>3} | Train Loss: {loss:.3f} | Train Acc: '\n",
    "                  f'{acc*100:>6.2f}% | Val Loss: {val_loss:.4f} | '\n",
    "                  f'Val Acc: {val_acc*100:.2f}%')\n",
    "\n",
    "            if val_loss < best_loss:\n",
    "                best_loss = val_loss\n",
    "                print(\"Saving model for best loss\")\n",
    "                checkpoint = {'state_dict': best_model_wts}\n",
    "                torch.save(checkpoint, os.path.join(checkpoints_dir, model_filename))\n",
    "                best_model_wts = copy.deepcopy(model.state_dict())\n",
    "\n",
    "    return model\n",
    "\n",
    "def test(model, data):\n",
    "    model.eval()\n",
    "    out = model(data.x, data.edge_index)\n",
    "    preds = ((torch.sigmoid(out) > 0.5).float()*1).squeeze(1)\n",
    "    return preds"
   ],
   "metadata": {
    "id": "tKrvbNLZUFpr",
    "pycharm": {
     "name": "#%%\n"
    }
   },
   "execution_count": 29,
   "outputs": []
  },
  {
   "cell_type": "code",
   "source": [
    "torch.manual_seed(config.seed)\n",
    "\n",
    "gat_model = GAT(config.input_dim, config.hidden_size, config.output_dim).to(config.device)\n",
    "data_train = elliptic_dataset.to(config.device)\n",
    "\n",
    "optimizer = torch.optim.Adam(gat_model.parameters(), lr=config.learning_rate, weight_decay=config.weight_decay)\n",
    "criterion = torch.nn.BCEWithLogitsLoss()\n",
    "\n",
    "train_evaluate(gat_model,\n",
    "               data_train,\n",
    "               criterion,\n",
    "               optimizer,\n",
    "               config.num_epochs,\n",
    "               config.checkpoints_dir,\n",
    "               'gat_best_model.pth.tar')"
   ],
   "metadata": {
    "colab": {
     "base_uri": "https://localhost:8080/"
    },
    "id": "kh5DkuUEUzof",
    "outputId": "cb6e4d3a-10a6-467f-8bfb-ce02811ecceb",
    "pycharm": {
     "name": "#%%\n"
    }
   },
   "execution_count": 17,
   "outputs": [
    {
     "output_type": "stream",
     "name": "stdout",
     "text": [
      "Epoch   0 | Train Loss: 0.761 | Train Acc:  49.94% | Val Loss: 0.7537 | Val Acc: 51.14%\n",
      "Saving model for best loss\n",
      "Epoch  10 | Train Loss: 0.246 | Train Acc:  90.47% | Val Loss: 0.2445 | Val Acc: 90.44%\n",
      "Saving model for best loss\n",
      "Epoch  20 | Train Loss: 0.221 | Train Acc:  91.39% | Val Loss: 0.2199 | Val Acc: 91.54%\n",
      "Saving model for best loss\n",
      "Epoch  30 | Train Loss: 0.201 | Train Acc:  92.76% | Val Loss: 0.1979 | Val Acc: 92.71%\n",
      "Saving model for best loss\n",
      "Epoch  40 | Train Loss: 0.186 | Train Acc:  93.70% | Val Loss: 0.1857 | Val Acc: 93.47%\n",
      "Saving model for best loss\n",
      "Epoch  50 | Train Loss: 0.172 | Train Acc:  94.33% | Val Loss: 0.1765 | Val Acc: 94.14%\n",
      "Saving model for best loss\n",
      "Epoch  60 | Train Loss: 0.163 | Train Acc:  94.82% | Val Loss: 0.1652 | Val Acc: 94.70%\n",
      "Saving model for best loss\n",
      "Epoch  70 | Train Loss: 0.153 | Train Acc:  95.26% | Val Loss: 0.1564 | Val Acc: 95.18%\n",
      "Saving model for best loss\n",
      "Epoch  80 | Train Loss: 0.147 | Train Acc:  95.67% | Val Loss: 0.1492 | Val Acc: 95.46%\n",
      "Saving model for best loss\n",
      "Epoch  90 | Train Loss: 0.138 | Train Acc:  95.91% | Val Loss: 0.1414 | Val Acc: 95.82%\n",
      "Saving model for best loss\n",
      "Epoch 100 | Train Loss: 0.134 | Train Acc:  96.16% | Val Loss: 0.1414 | Val Acc: 95.76%\n",
      "Epoch 110 | Train Loss: 0.129 | Train Acc:  96.25% | Val Loss: 0.1361 | Val Acc: 96.03%\n",
      "Saving model for best loss\n",
      "Epoch 120 | Train Loss: 0.123 | Train Acc:  96.35% | Val Loss: 0.1356 | Val Acc: 95.91%\n",
      "Saving model for best loss\n",
      "Epoch 130 | Train Loss: 0.119 | Train Acc:  96.61% | Val Loss: 0.1251 | Val Acc: 96.19%\n",
      "Saving model for best loss\n",
      "Epoch 140 | Train Loss: 0.114 | Train Acc:  96.68% | Val Loss: 0.1261 | Val Acc: 96.28%\n",
      "Epoch 150 | Train Loss: 0.111 | Train Acc:  96.79% | Val Loss: 0.1212 | Val Acc: 96.59%\n",
      "Saving model for best loss\n",
      "Epoch 160 | Train Loss: 0.109 | Train Acc:  96.88% | Val Loss: 0.1180 | Val Acc: 96.54%\n",
      "Saving model for best loss\n",
      "Epoch 170 | Train Loss: 0.105 | Train Acc:  96.99% | Val Loss: 0.1126 | Val Acc: 96.79%\n",
      "Saving model for best loss\n",
      "Epoch 180 | Train Loss: 0.103 | Train Acc:  97.04% | Val Loss: 0.1128 | Val Acc: 96.72%\n",
      "Epoch 190 | Train Loss: 0.097 | Train Acc:  97.18% | Val Loss: 0.1102 | Val Acc: 96.78%\n",
      "Saving model for best loss\n",
      "Epoch 200 | Train Loss: 0.096 | Train Acc:  97.27% | Val Loss: 0.1130 | Val Acc: 96.88%\n",
      "Epoch 210 | Train Loss: 0.093 | Train Acc:  97.41% | Val Loss: 0.1078 | Val Acc: 97.11%\n",
      "Saving model for best loss\n",
      "Epoch 220 | Train Loss: 0.091 | Train Acc:  97.43% | Val Loss: 0.1051 | Val Acc: 96.95%\n",
      "Saving model for best loss\n",
      "Epoch 230 | Train Loss: 0.089 | Train Acc:  97.46% | Val Loss: 0.1065 | Val Acc: 97.02%\n",
      "Epoch 240 | Train Loss: 0.087 | Train Acc:  97.61% | Val Loss: 0.1031 | Val Acc: 97.02%\n",
      "Saving model for best loss\n",
      "Epoch 250 | Train Loss: 0.084 | Train Acc:  97.68% | Val Loss: 0.0947 | Val Acc: 97.11%\n",
      "Saving model for best loss\n",
      "Epoch 260 | Train Loss: 0.083 | Train Acc:  97.78% | Val Loss: 0.1014 | Val Acc: 97.18%\n",
      "Epoch 270 | Train Loss: 0.081 | Train Acc:  97.81% | Val Loss: 0.0984 | Val Acc: 97.29%\n",
      "Epoch 280 | Train Loss: 0.079 | Train Acc:  97.87% | Val Loss: 0.0960 | Val Acc: 97.31%\n",
      "Epoch 290 | Train Loss: 0.076 | Train Acc:  97.95% | Val Loss: 0.0951 | Val Acc: 97.34%\n",
      "Epoch 300 | Train Loss: 0.076 | Train Acc:  97.86% | Val Loss: 0.0935 | Val Acc: 97.37%\n",
      "Saving model for best loss\n",
      "Epoch 310 | Train Loss: 0.072 | Train Acc:  98.02% | Val Loss: 0.0928 | Val Acc: 97.25%\n",
      "Saving model for best loss\n",
      "Epoch 320 | Train Loss: 0.072 | Train Acc:  98.04% | Val Loss: 0.0956 | Val Acc: 97.34%\n",
      "Epoch 330 | Train Loss: 0.070 | Train Acc:  98.07% | Val Loss: 0.0885 | Val Acc: 97.48%\n",
      "Saving model for best loss\n",
      "Epoch 340 | Train Loss: 0.068 | Train Acc:  98.14% | Val Loss: 0.0876 | Val Acc: 97.55%\n",
      "Saving model for best loss\n",
      "Epoch 350 | Train Loss: 0.067 | Train Acc:  98.21% | Val Loss: 0.0861 | Val Acc: 97.54%\n",
      "Saving model for best loss\n",
      "Epoch 360 | Train Loss: 0.066 | Train Acc:  98.22% | Val Loss: 0.0886 | Val Acc: 97.47%\n",
      "Epoch 370 | Train Loss: 0.065 | Train Acc:  98.28% | Val Loss: 0.0876 | Val Acc: 97.51%\n",
      "Epoch 380 | Train Loss: 0.064 | Train Acc:  98.30% | Val Loss: 0.0862 | Val Acc: 97.52%\n",
      "Epoch 390 | Train Loss: 0.061 | Train Acc:  98.32% | Val Loss: 0.0850 | Val Acc: 97.52%\n",
      "Saving model for best loss\n",
      "Epoch 400 | Train Loss: 0.061 | Train Acc:  98.41% | Val Loss: 0.0853 | Val Acc: 97.71%\n"
     ]
    },
    {
     "output_type": "execute_result",
     "data": {
      "text/plain": [
       "GAT(\n",
       "  (norm1): BatchNorm1d(165, eps=1e-05, momentum=0.1, affine=True, track_running_stats=True)\n",
       "  (gat1): GATv2Conv(165, 128, heads=8)\n",
       "  (norm2): BatchNorm1d(1024, eps=1e-05, momentum=0.1, affine=True, track_running_stats=True)\n",
       "  (gat2): GATv2Conv(1024, 1, heads=8)\n",
       ")"
      ]
     },
     "metadata": {},
     "execution_count": 17
    }
   ]
  },
  {
   "cell_type": "markdown",
   "source": [
    "## Evaluating\n",
    "Finally, we can evaluate our model. Our main target is to detect fraudsters, which means that we are mostly interested in **illicit F1 score = 0.89**, which is pretty could for our task.\n",
    "\n",
    "Also, confusion matrix and full classification report are provided here."
   ],
   "metadata": {
    "id": "XTkLDC6i4m1t",
    "pycharm": {
     "name": "#%% md\n"
    }
   }
  },
  {
   "cell_type": "code",
   "source": [
    "gat_model.load_state_dict(torch.load(os.path.join(config.checkpoints_dir, 'gat_best_model.pth.tar'))['state_dict'])\n",
    "\n",
    "y_test_preds = test(gat_model, data_train)\n",
    "\n",
    "# confusion matrix on validation data\n",
    "conf_mat = confusion_matrix(data_train.y[data_train.val_idx].detach().cpu().numpy(), y_test_preds[valid_idx].cpu())\n",
    "\n",
    "plt.subplots(figsize=(6,6))\n",
    "sns.set(font_scale=1.4)\n",
    "sns.heatmap(conf_mat, annot=True, fmt=\".0f\", annot_kws={\"size\": 16}, cbar=False)\n",
    "plt.xlabel('Target (true) Class'); plt.ylabel('Output (predicted) class'); plt.title('Confusion Matrix')\n",
    "plt.show();\n",
    "\n",
    "print(classification_report(data_train.y[data_train.val_idx].detach().cpu().numpy(),\n",
    "                            y_test_preds[valid_idx].cpu(),\n",
    "                            target_names=['licit', 'illicit']))"
   ],
   "metadata": {
    "id": "7jLzJpFIWUZs",
    "colab": {
     "base_uri": "https://localhost:8080/",
     "height": 750
    },
    "outputId": "99849112-cd68-407c-ab60-b3b05970f0ed",
    "pycharm": {
     "name": "#%%\n"
    }
   },
   "execution_count": 30,
   "outputs": [
    {
     "output_type": "display_data",
     "data": {
      "text/plain": [
       "<Figure size 600x600 with 1 Axes>"
      ],
      "image/png": "[encoded data removed]"
     },
     "metadata": {}
    },
    {
     "output_type": "stream",
     "name": "stdout",
     "text": [
      "              precision    recall  f1-score   support\n",
      "\n",
      "       licit       0.99      0.99      0.99      6303\n",
      "     illicit       0.91      0.86      0.89       682\n",
      "\n",
      "    accuracy                           0.98      6985\n",
      "   macro avg       0.95      0.93      0.94      6985\n",
      "weighted avg       0.98      0.98      0.98      6985\n",
      "\n"
     ]
    }
   ]
  }
 ]
}